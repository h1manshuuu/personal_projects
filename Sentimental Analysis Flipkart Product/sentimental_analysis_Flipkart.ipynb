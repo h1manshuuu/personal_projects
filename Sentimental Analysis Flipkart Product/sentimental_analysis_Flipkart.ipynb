{
 "cells": [
  {
   "cell_type": "code",
   "execution_count": 23,
   "metadata": {},
   "outputs": [],
   "source": [
    "import pandas as pd\n",
    "import re\n",
    "import requests\n",
    "from bs4 import BeautifulSoup\n",
    "import matplotlib.pyplot as plt"
   ]
  },
  {
   "cell_type": "code",
   "execution_count": 24,
   "metadata": {},
   "outputs": [],
   "source": [
    "# Function to fetch HTML content from a given URL\n",
    "def get_html(url):\n",
    "    response = requests.get(url)\n",
    "    soup = BeautifulSoup(response.content, \"html.parser\")\n",
    "    return soup\n",
    "\n",
    "# Function to extract reviews from a BeautifulSoup object\n",
    "def extract_reviews(soup):\n",
    "    reviews = []\n",
    "    review_blocks = soup.find_all('div', {'class': '_27M-vq'})\n",
    "    \n",
    "    for block in review_blocks:\n",
    "        review_element = block.find('p', {'class': '_2-N8zT'})\n",
    "        review = review_element.text.strip()\n",
    "        reviews.append(review)\n",
    "    return reviews\n",
    "\n",
    "def last_page(soup):\n",
    "    page_block = soup.find_all('div', {'class': '_2MImiq _1Qnn1K'})\n",
    "    page_block = page_block[0].find('span').text.strip()\n",
    "    total_page = page_block.split('of')[1].strip()\n",
    "    return int(total_page.replace(\",\", \"\"))\n"
   ]
  },
  {
   "cell_type": "code",
   "execution_count": 25,
   "metadata": {},
   "outputs": [
    {
     "name": "stdout",
     "output_type": "stream",
     "text": [
      ">>scraping pages : \n",
      "1,2,3,4,5,6\n",
      ">>scraping complete\n",
      "['Really Nice', 'Useless product', 'Highly recommended', 'Mind-blowing purchase', 'Excellent', 'Decent product', 'Not good', 'Classy product', 'Unsatisfactory', 'Expected a better product']\n"
     ]
    }
   ],
   "source": [
    "\n",
    "# URL of the page to scrape\n",
    "\n",
    "# site_url = input(\"Enter FLIPKART product URL: \")\n",
    "site_url=\"https://www.flipkart.com/gopro-hero-10-waterproof-front-lcd-touch-rear-screens-5-3k60-ultra-hd-video-1080p-live-streaming-webcam-stabilization-sports-action-camera/p/itm5f1f138a6cc3e?pid=SAYG7UB7MGZ89YNJ&lid=LSTSAYG7UB7MGZ89YNJGVR4G1&marketplace=FLIPKART&q=camera&store=jek%2Fp31&srno=s_1_5&otracker=search&otracker1=search&fm=search-autosuggest&iid=1ff28de9-e5dd-4e1a-b952-ab1dfc309343.SAYG7UB7MGZ89YNJ.SEARCH&ppt=sp&ppn=sp&ssid=g9ngqwo59s0000001705257860795&qH=dd6d2dcc679d12b9\"\n",
    "\n",
    "separator=\"marketplace=FLIPKART\"\n",
    "url = site_url.split(separator,1)[0] + separator\n",
    "url = url.replace('/p/', '/product-reviews/')\n",
    "\n",
    "reviews = []\n",
    "page = 1\n",
    "soup = get_html(url)\n",
    "page_limit = last_page(soup)\n",
    "scraped_pages = []\n",
    "\n",
    "# Scraping pages\n",
    "print(\">>scraping pages : \")\n",
    "while page <=  page_limit :\n",
    "    page_url = url + \"&page=\" + str(page)\n",
    "    scraped_pages.append(str(page))\n",
    "    print(\",\".join(scraped_pages), end='\\r')\n",
    "    soup = get_html(page_url)\n",
    "    page_reviews = extract_reviews(soup)\n",
    "    reviews.extend(page_reviews)\n",
    "    page += 1\n",
    "\n",
    "print(\",\".join(scraped_pages))\n",
    "print(\">>scraping complete\")\n",
    "print(reviews[:10])"
   ]
  },
  {
   "cell_type": "code",
   "execution_count": 26,
   "metadata": {},
   "outputs": [
    {
     "name": "stdout",
     "output_type": "stream",
     "text": [
      "['Really Nice', 'Useless product', 'Highly recommended', 'Mind-blowing purchase', 'Excellent', 'Decent product', 'Not good', 'Classy product', 'Unsatisfactory', 'Expected a better product']\n"
     ]
    }
   ],
   "source": [
    "# Split reviews into sentences\n",
    "string_value = \".\".join(map(str, reviews))\n",
    "separated_data= re.split('[,.!]', string_value)\n",
    "separated_data = [x.strip() for x in separated_data if x.strip()]\n",
    "\n",
    "# Remove emojis from the data\n",
    "emoji_free_data = []\n",
    "\n",
    "\n",
    "def replace_emoji_space(string):\n",
    "    emoji_pattern = re.compile(\"[\"\n",
    "                            \"\\U0001F1E0-\\U0001F1FF\"  # flags (iOS)\n",
    "                            \"\\U0001F300-\\U0001F5FF\"  # symbols & pictographs\n",
    "                            \"\\U0001F600-\\U0001F64F\"  # emoticons\n",
    "                            \"\\U0001F680-\\U0001F6FF\"  # transport & map symbols\n",
    "                            \"\\U0001F700-\\U0001F77F\"  # alchemical symbols\n",
    "                            \"\\U0001F780-\\U0001F7FF\"  # Geometric Shapes Extended\n",
    "                            \"\\U0001F800-\\U0001F8FF\"  # Supplemental Arrows-C\n",
    "                            \"\\U0001F900-\\U0001F9FF\"  # Supplemental Symbols and Pictographs\n",
    "                            \"\\U0001FA00-\\U0001FA6F\"  # Chess Symbols\n",
    "                            \"\\U0001FA70-\\U0001FAFF\"  # Symbols and Pictographs Extended-A\n",
    "                            \"\\U00002702-\\U000027B0\"  # Dingbats\n",
    "                            \"\\U000024C2-\\U0001F251\"\n",
    "                       \"]+\", flags=re.UNICODE)\n",
    "    return emoji_pattern.sub(r' ', str(string))\n",
    "for i in separated_data:\n",
    "    emoji_free_data.append(replace_emoji_space(i))\n",
    "\n",
    "print(emoji_free_data[:10])"
   ]
  },
  {
   "cell_type": "code",
   "execution_count": 27,
   "metadata": {},
   "outputs": [
    {
     "name": "stdout",
     "output_type": "stream",
     "text": [
      "                 Reviews\n",
      "0            really nice\n",
      "1        useless product\n",
      "2     highly recommended\n",
      "3  mind-blowing purchase\n",
      "4              excellent\n",
      "DataFrame length: 36\n"
     ]
    }
   ],
   "source": [
    "# Create a DataFrame from the cleaned data\n",
    "review_df = pd.DataFrame(emoji_free_data, columns=['Reviews'])\n",
    "review_df.head()\n",
    "\n",
    "# Fill empty strings with 'Average'\n",
    "review_df = review_df.replace(r'^\\s*$', \"Average\", regex=True)\n",
    "\n",
    "# Convert to lowercase\n",
    "review_df[\"Reviews\"] = review_df[\"Reviews\"].str.lower()\n",
    "print(review_df.head())\n",
    "print('DataFrame length: ' + str(len(review_df)))\n"
   ]
  },
  {
   "cell_type": "code",
   "execution_count": 28,
   "metadata": {},
   "outputs": [
    {
     "name": "stdout",
     "output_type": "stream",
     "text": [
      "[['a+'], ['abound'], ['abounds'], ['abundance'], ['abundant'], ['accessable'], ['accessible'], ['acclaim'], ['acclaimed'], ['acclamation']]\n",
      "[['abnormal'], ['abolish'], ['abominable'], ['abominably'], ['abominate'], ['abomination'], ['abort'], ['aborted'], ['aborts'], ['abrade']]\n"
     ]
    }
   ],
   "source": [
    "# Load positive and negative words from files\n",
    "file1 = \"positiveword.txt\"\n",
    "positive_words = []\n",
    "with open(file1, 'r') as file:\n",
    "    for line in file:\n",
    "        positive_words.append(line.strip().split(\",\"))\n",
    "print(positive_words[:10])\n",
    "\n",
    "file2 = \"negativeword.txt\"\n",
    "negative_words = []\n",
    "with open(file2, 'r') as file:\n",
    "    for line in file:\n",
    "        negative_words.append(line.strip().split(\",\"))\n",
    "print(negative_words[:10])"
   ]
  },
  {
   "cell_type": "code",
   "execution_count": 29,
   "metadata": {},
   "outputs": [
    {
     "name": "stdout",
     "output_type": "stream",
     "text": [
      "['abnormal', 'abolish', 'abominable', 'abominably', 'abominate', 'abomination', 'abort', 'aborted', 'aborts', 'abrade']\n",
      "['a+', 'abound', 'abounds', 'abundance', 'abundant', 'accessable', 'accessible', 'acclaim', 'acclaimed', 'acclamation']\n"
     ]
    }
   ],
   "source": [
    "# Copy the DataFrame for processing\n",
    "review_dff = review_df.copy()\n",
    "\n",
    "# Flatten the lists of positive and negative words\n",
    "neg_flat_list = [item for sublist in negative_words for item in sublist]\n",
    "print(neg_flat_list[:10])\n",
    "\n",
    "pos_flat_list = [item for sublist in positive_words for item in sublist]\n",
    "print(pos_flat_list[:10])\n"
   ]
  },
  {
   "cell_type": "code",
   "execution_count": 30,
   "metadata": {},
   "outputs": [
    {
     "name": "stdout",
     "output_type": "stream",
     "text": [
      "                 Reviews Sentiment\n",
      "0            really nice  Positive\n",
      "1        useless product  Negative\n",
      "2     highly recommended  Positive\n",
      "3  mind-blowing purchase  Positive\n",
      "4              excellent  Positive\n"
     ]
    }
   ],
   "source": [
    "# Function to determine remarks (positive, negative, or average)\n",
    "def determine_sentiment(review):\n",
    "    review_words = set(review.lower().split())\n",
    "    \n",
    "    if any(word in review_words for word in neg_flat_list):\n",
    "        return 'Negative'\n",
    "    elif any(word in review_words for word in pos_flat_list):\n",
    "        return 'Positive'\n",
    "    else:\n",
    "        return 'Average'\n",
    "\n",
    "# Apply the determine_sentiment function to create the 'Remarks' column\n",
    "review_dff['Sentiment'] = review_dff['Reviews'].apply(determine_sentiment)\n",
    "\n",
    "print(review_dff.head(5))"
   ]
  },
  {
   "cell_type": "code",
   "execution_count": 31,
   "metadata": {},
   "outputs": [
    {
     "name": "stdout",
     "output_type": "stream",
     "text": [
      "Sentiment\n",
      "Positive    27\n",
      "Negative     9\n",
      "Name: count, dtype: int64\n"
     ]
    }
   ],
   "source": [
    "# Count the occurrences of each Sentiment\n",
    "sentiment_count = review_dff['Sentiment'].value_counts()\n",
    "print(sentiment_count)"
   ]
  },
  {
   "cell_type": "code",
   "execution_count": 32,
   "metadata": {},
   "outputs": [
    {
     "data": {
      "image/png": "[encoded data removed]",
      "text/plain": [
       "<Figure size 640x480 with 1 Axes>"
      ]
     },
     "metadata": {},
     "output_type": "display_data"
    }
   ],
   "source": [
    "# Plot a pie chart to visualize the distribution of remarks\n",
    "# explode = (0.05, 0.05, 0.05)\n",
    "custom_colors = ['#88c79a', '#ef7765', '#6581c0']\n",
    "\n",
    "# Determine the number of unique sentiments\n",
    "num_sentiments = len(sentiment_count)\n",
    "\n",
    "# Set explode based on the number of unique sentiments\n",
    "explode = tuple(0.05 for _ in range(num_sentiments))\n",
    "\n",
    "plt.pie(sentiment_count, autopct='%1.1f%%', startangle=140, colors=custom_colors,\n",
    "        wedgeprops=dict(width=0.4), textprops={'color': 'black', 'bbox': {'facecolor': 'white', 'edgecolor': 'black', 'boxstyle': 'round,pad=0.1'}},\n",
    "        pctdistance=1.1, explode=explode)\n",
    "\n",
    "plt.title('Distribution of Sentiments')\n",
    "plt.legend(sentiment_count.index, loc='upper right')\n",
    "plt.show()"
   ]
  }
 ],
 "metadata": {
  "kernelspec": {
   "display_name": "Python 3",
   "language": "python",
   "name": "python3"
  },
  "language_info": {
   "codemirror_mode": {
    "name": "ipython",
    "version": 3
   },
   "file_extension": ".py",
   "mimetype": "text/x-python",
   "name": "python",
   "nbconvert_exporter": "python",
   "pygments_lexer": "ipython3",
   "version": "3.11.3"
  }
 },
 "nbformat": 4,
 "nbformat_minor": 2
}
